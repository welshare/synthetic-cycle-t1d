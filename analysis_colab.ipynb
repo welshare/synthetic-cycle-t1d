{
 "cells": [
  {
   "cell_type": "markdown",
   "metadata": {},
   "source": [
    "# T1D Menstrual Cycle Synthetic Data Analysis\n",
    "\n",
    "Interactive notebook for analyzing FHIR QuestionnaireResponse synthetic data.\n",
    "\n",
    "## Overview\n",
    "This notebook can:\n",
    "1. **Generate synthetic data** (optional, for Google Colab)\n",
    "2. **Load and analyze** existing data from the `output/` directory\n",
    "3. **Validate research hypothesis** (HYP-MC-01): Women with T1D show measurable glucose and insulin changes during the luteal phase"
   ]
  },
  {
   "cell_type": "markdown",
   "metadata": {},
   "source": [
    "## 0. Setup (Optional - For Google Colab)\n",
    "\n",
    "**Run this section only if you're using Google Colab and need to generate synthetic data.**\n",
    "\n",
    "If you're running locally with existing data in `output/`, skip to section 1."
   ]
  },
  {
   "cell_type": "code",
   "execution_count": null,
   "metadata": {},
   "outputs": [],
   "source": [
    "# Check if running in Google Colab\n",
    "try:\n",
    "    import google.colab\n",
    "    IN_COLAB = True\n",
    "    print(\"✓ Running in Google Colab\")\n",
    "except ImportError:\n",
    "    IN_COLAB = False\n",
    "    print(\"✓ Running locally\")"
   ]
  },
  {
   "cell_type": "code",
   "execution_count": null,
   "metadata": {},
   "outputs": [],
   "source": [
    "# Install dependencies (only needed in Colab)\n",
    "if IN_COLAB:\n",
    "    print(\"Installing dependencies...\")\n",
    "    !pip install -q fhir.resources pandas numpy scipy matplotlib seaborn\n",
    "    print(\"✓ Dependencies installed\")"
   ]
  },
  {
   "cell_type": "code",
   "execution_count": null,
   "metadata": {},
   "outputs": [],
   "source": [
    "# Clone repository (only in Colab) - UPDATE WITH YOUR REPO URL\n",
    "if IN_COLAB:\n",
    "    import os\n",
    "    if not os.path.exists('synthetic-data-cycle-t1d'):\n",
    "        print(\"Cloning repository...\")\n",
    "        # Replace with your actual repository URL\n",
    "        !git clone https://github.com/YOUR_USERNAME/synthetic-data-cycle-t1d.git\n",
    "        print(\"✓ Repository cloned\")\n",
    "    else:\n",
    "        print(\"✓ Repository already exists\")\n",
    "    \n",
    "    # Change to repo directory\n",
    "    %cd synthetic-data-cycle-t1d\n",
    "else:\n",
    "    print(\"Skipping - running locally\")"
   ]
  },
  {
   "cell_type": "markdown",
   "metadata": {},
   "source": [
    "### Generate Synthetic Data\n",
    "\n",
    "Run the synthesizer to create FHIR QuestionnaireResponse files.\n",
    "\n",
    "**Configuration options:**\n",
    "- `num_patients`: Number of unique patients (default: 187)\n",
    "- `intervention_count`: Patients in cycle-aware intervention group (default: 64)\n",
    "- `one_per_patient`: Cross-sectional (True) vs longitudinal (False)"
   ]
  },
  {
   "cell_type": "code",
   "execution_count": null,
   "metadata": {},
   "outputs": [],
   "source": [
    "# Import synthesizer modules\n",
    "import sys\n",
    "from pathlib import Path\n",
    "\n",
    "# Add src to path if needed\n",
    "sys.path.insert(0, str(Path.cwd()))\n",
    "\n",
    "from src.main import generate_responses\n",
    "from src.models.cohort_params import DEFAULT_COHORT_PARAMS\n",
    "\n",
    "print(\"✓ Synthesizer modules loaded\")"
   ]
  },
  {
   "cell_type": "code",
   "execution_count": null,
   "metadata": {},
   "outputs": [],
   "source": [
    "# Generate synthetic data\n",
    "# Adjust parameters as needed\n",
    "\n",
    "GENERATE_DATA = True  # Set to False to skip generation and use existing data\n",
    "\n",
    "if GENERATE_DATA:\n",
    "    print(\"Generating synthetic cohort data...\\n\")\n",
    "    \n",
    "    generate_responses(\n",
    "        num_patients=187,              # Target cohort size\n",
    "        observations_per_patient=1,    # Not used in one_per_patient mode\n",
    "        intervention_count=64,         # Patients with cycle-aware dosing\n",
    "        output_dir=Path(\"output\"),\n",
    "        params=DEFAULT_COHORT_PARAMS,\n",
    "        clean=True,                    # Clean output directory first\n",
    "        one_per_patient=True           # Cross-sectional design (recommended)\n",
    "    )\n",
    "    \n",
    "    print(\"\\n✓ Synthetic data generation complete!\")\n",
    "else:\n",
    "    print(\"Skipping data generation (GENERATE_DATA=False)\")"
   ]
  },
  {
   "cell_type": "markdown",
   "metadata": {},
   "source": [
    "---\n",
    "\n",
    "## 1. Import Analysis Libraries\n",
    "\n",
    "Load all required packages for data analysis."
   ]
  },
  {
   "cell_type": "code",
   "execution_count": null,
   "metadata": {},
   "outputs": [],
   "source": [
    "import json\n",
    "import glob\n",
    "from datetime import datetime, timedelta\n",
    "from typing import Dict, List, Any\n",
    "\n",
    "import pandas as pd\n",
    "import numpy as np\n",
    "import matplotlib.pyplot as plt\n",
    "import seaborn as sns\n",
    "from scipy import stats\n",
    "\n",
    "# Configure plotting\n",
    "sns.set_style(\"whitegrid\")\n",
    "plt.rcParams['figure.figsize'] = (12, 6)\n",
    "%matplotlib inline\n",
    "\n",
    "print(\"✓ Analysis libraries loaded\")"
   ]
  },
  {
   "cell_type": "markdown",
   "metadata": {},
   "source": [
    "## 2. Data Loading\n",
    "\n",
    "Load all FHIR QuestionnaireResponse JSON files from the output directory."
   ]
  },
  {
   "cell_type": "code",
   "execution_count": null,
   "metadata": {},
   "outputs": [],
   "source": [
    "def load_questionnaire_responses(output_dir: str = \"output/\") -> List[Dict[str, Any]]:\n",
    "    \"\"\"Load all QuestionnaireResponse JSON files from output directory.\"\"\"\n",
    "    response_files = glob.glob(f\"{output_dir}response-*.json\")\n",
    "    responses = []\n",
    "    \n",
    "    for file_path in sorted(response_files):\n",
    "        with open(file_path, 'r') as f:\n",
    "            responses.append(json.load(f))\n",
    "    \n",
    "    return responses\n",
    "\n",
    "responses = load_questionnaire_responses()\n",
    "print(f\"Loaded {len(responses)} questionnaire responses\")"
   ]
  },
  {
   "cell_type": "markdown",
   "metadata": {},
   "source": [
    "## 3. Data Transformation\n",
    "\n",
    "Convert FHIR QuestionnaireResponse resources to a pandas DataFrame for analysis."
   ]
  },
  {
   "cell_type": "code",
   "execution_count": null,
   "metadata": {},
   "outputs": [],
   "source": [
    "def extract_answer(item: Dict) -> Any:\n",
    "    \"\"\"Extract answer value from FHIR item.\"\"\"\n",
    "    if not item.get('answer'):\n",
    "        return None\n",
    "    \n",
    "    answer = item['answer'][0]\n",
    "    if 'valueInteger' in answer:\n",
    "        return answer['valueInteger']\n",
    "    elif 'valueDecimal' in answer:\n",
    "        return answer['valueDecimal']\n",
    "    elif 'valueString' in answer:\n",
    "        return answer['valueString']\n",
    "    elif 'valueDate' in answer:\n",
    "        return answer['valueDate']\n",
    "    return None\n",
    "\n",
    "def extract_symptoms(item: Dict) -> List[str]:\n",
    "    \"\"\"Extract all symptom values from repeating choice item.\"\"\"\n",
    "    if not item.get('answer'):\n",
    "        return []\n",
    "    return [ans.get('valueString', '') for ans in item['answer']]\n",
    "\n",
    "def calculate_cycle_phase(lmp_date: str, survey_date: str) -> str:\n",
    "    \"\"\"Calculate menstrual cycle phase based on LMP and survey date.\"\"\"\n",
    "    lmp = datetime.fromisoformat(lmp_date)\n",
    "    survey = datetime.fromisoformat(survey_date.split('T')[0])\n",
    "    days_since_lmp = (survey - lmp).days\n",
    "    \n",
    "    # Follicular: days 1-14, Luteal: days 15-28\n",
    "    return 'Follicular' if days_since_lmp <= 14 else 'Luteal'\n",
    "\n",
    "def responses_to_dataframe(responses: List[Dict]) -> pd.DataFrame:\n",
    "    \"\"\"Convert QuestionnaireResponse list to pandas DataFrame.\"\"\"\n",
    "    records = []\n",
    "    \n",
    "    for resp in responses:\n",
    "        record = {\n",
    "            'patient_id': resp['id'],\n",
    "            'authored': resp['authored']\n",
    "        }\n",
    "        \n",
    "        # Extract answers by linkId\n",
    "        items_by_link = {item['linkId']: item for item in resp['item']}\n",
    "        \n",
    "        record['age'] = extract_answer(items_by_link.get('1'))\n",
    "        record['years_since_diagnosis'] = extract_answer(items_by_link.get('2'))\n",
    "        record['insulin_delivery'] = extract_answer(items_by_link.get('3'))\n",
    "        record['lmp_date'] = extract_answer(items_by_link.get('4'))\n",
    "        record['cycle_regularity'] = extract_answer(items_by_link.get('5'))\n",
    "        record['basal_insulin'] = extract_answer(items_by_link.get('6'))\n",
    "        record['nighttime_glucose'] = extract_answer(items_by_link.get('7'))\n",
    "        record['sleep_awakenings'] = extract_answer(items_by_link.get('8'))\n",
    "        record['symptoms'] = extract_symptoms(items_by_link.get('9'))\n",
    "        record['subjective_text'] = extract_answer(items_by_link.get('10'))\n",
    "        \n",
    "        # Calculate cycle phase\n",
    "        if record['lmp_date']:\n",
    "            record['cycle_phase'] = calculate_cycle_phase(record['lmp_date'], record['authored'])\n",
    "        \n",
    "        # Parse symptoms into binary flags\n",
    "        symptoms = record['symptoms']\n",
    "        record['has_night_sweats'] = 'Night sweats' in symptoms\n",
    "        record['has_dizziness'] = 'Dizziness' in symptoms\n",
    "        record['has_palpitations'] = 'Palpitations' in symptoms\n",
    "        record['has_fatigue'] = 'Weakness/Fatigue' in symptoms\n",
    "        record['symptom_count'] = len(symptoms)\n",
    "        \n",
    "        records.append(record)\n",
    "    \n",
    "    return pd.DataFrame(records)\n",
    "\n",
    "df = responses_to_dataframe(responses)\n",
    "print(f\"DataFrame shape: {df.shape}\")\n",
    "df.head()"
   ]
  },
  {
   "cell_type": "markdown",
   "metadata": {},
   "source": [
    "## 4. Cohort Summary Statistics"
   ]
  },
  {
   "cell_type": "code",
   "execution_count": null,
   "metadata": {},
   "outputs": [],
   "source": [
    "print(\"=== COHORT DEMOGRAPHICS ===\")\n",
    "print(f\"Total responses: {len(df)}\")\n",
    "print(f\"\\nAge: {df['age'].mean():.1f} ± {df['age'].std():.1f} years (range: {df['age'].min()}-{df['age'].max()})\")\n",
    "print(f\"Years since T1D diagnosis: {df['years_since_diagnosis'].mean():.1f} ± {df['years_since_diagnosis'].std():.1f} years\")\n",
    "\n",
    "print(\"\\n=== INSULIN DELIVERY METHOD ===\")\n",
    "print(df['insulin_delivery'].value_counts())\n",
    "print(f\"Pump ratio: {(df['insulin_delivery'] == 'Insulin Pump').mean():.1%}\")\n",
    "\n",
    "print(\"\\n=== CYCLE REGULARITY ===\")\n",
    "print(df['cycle_regularity'].value_counts())\n",
    "\n",
    "print(\"\\n=== CYCLE PHASE DISTRIBUTION ===\")\n",
    "print(df['cycle_phase'].value_counts())"
   ]
  },
  {
   "cell_type": "markdown",
   "metadata": {},
   "source": [
    "## 5. Primary Hypothesis Testing: Luteal Phase Effects\n",
    "\n",
    "Test whether luteal phase shows increased glucose, insulin, and symptoms compared to follicular phase."
   ]
  },
  {
   "cell_type": "code",
   "execution_count": null,
   "metadata": {},
   "outputs": [],
   "source": [
    "# Group by cycle phase\n",
    "follicular = df[df['cycle_phase'] == 'Follicular']\n",
    "luteal = df[df['cycle_phase'] == 'Luteal']\n",
    "\n",
    "print(\"=== FOLLICULAR PHASE (Baseline) ===\")\n",
    "print(f\"N = {len(follicular)}\")\n",
    "print(f\"Mean nighttime glucose: {follicular['nighttime_glucose'].mean():.1f} ± {follicular['nighttime_glucose'].std():.1f} mg/dL\")\n",
    "print(f\"Mean basal insulin: {follicular['basal_insulin'].mean():.1f} ± {follicular['basal_insulin'].std():.1f} units\")\n",
    "print(f\"Mean sleep awakenings: {follicular['sleep_awakenings'].mean():.2f} ± {follicular['sleep_awakenings'].std():.2f}\")\n",
    "print(f\"Night sweats: {follicular['has_night_sweats'].mean():.1%}\")\n",
    "print(f\"Dizziness: {follicular['has_dizziness'].mean():.1%}\")\n",
    "print(f\"Palpitations: {follicular['has_palpitations'].mean():.1%}\")\n",
    "\n",
    "print(\"\\n=== LUTEAL PHASE ===\")\n",
    "print(f\"N = {len(luteal)}\")\n",
    "print(f\"Mean nighttime glucose: {luteal['nighttime_glucose'].mean():.1f} ± {luteal['nighttime_glucose'].std():.1f} mg/dL\")\n",
    "print(f\"Mean basal insulin: {luteal['basal_insulin'].mean():.1f} ± {luteal['basal_insulin'].std():.1f} units\")\n",
    "print(f\"Mean sleep awakenings: {luteal['sleep_awakenings'].mean():.2f} ± {luteal['sleep_awakenings'].std():.2f}\")\n",
    "print(f\"Night sweats: {luteal['has_night_sweats'].mean():.1%}\")\n",
    "print(f\"Dizziness: {luteal['has_dizziness'].mean():.1%}\")\n",
    "print(f\"Palpitations: {luteal['has_palpitations'].mean():.1%}\")\n",
    "\n",
    "print(\"\\n=== STATISTICAL TESTS ===\")\n",
    "# T-tests\n",
    "glucose_ttest = stats.ttest_ind(follicular['nighttime_glucose'], luteal['nighttime_glucose'])\n",
    "insulin_ttest = stats.ttest_ind(follicular['basal_insulin'], luteal['basal_insulin'])\n",
    "awakenings_ttest = stats.ttest_ind(follicular['sleep_awakenings'], luteal['sleep_awakenings'])\n",
    "\n",
    "print(f\"Nighttime glucose: t={glucose_ttest.statistic:.2f}, p={glucose_ttest.pvalue:.4f}\")\n",
    "print(f\"Basal insulin: t={insulin_ttest.statistic:.2f}, p={insulin_ttest.pvalue:.4f}\")\n",
    "print(f\"Sleep awakenings: t={awakenings_ttest.statistic:.2f}, p={awakenings_ttest.pvalue:.4f}\")\n",
    "\n",
    "print(\"\\n=== EFFECT SIZES ===\")\n",
    "glucose_diff = luteal['nighttime_glucose'].mean() - follicular['nighttime_glucose'].mean()\n",
    "insulin_diff = luteal['basal_insulin'].mean() - follicular['basal_insulin'].mean()\n",
    "insulin_pct = (insulin_diff / follicular['basal_insulin'].mean()) * 100\n",
    "\n",
    "print(f\"Glucose increase (luteal): {glucose_diff:+.1f} mg/dL\")\n",
    "print(f\"Insulin increase (luteal): {insulin_diff:+.1f} units ({insulin_pct:+.1f}%)\")"
   ]
  },
  {
   "cell_type": "markdown",
   "metadata": {},
   "source": [
    "## 6. Visualizations"
   ]
  },
  {
   "cell_type": "code",
   "execution_count": null,
   "metadata": {},
   "outputs": [],
   "source": [
    "# Create subplots for key metrics\n",
    "fig, axes = plt.subplots(2, 2, figsize=(14, 10))\n",
    "\n",
    "# Nighttime glucose by cycle phase\n",
    "sns.boxplot(data=df, x='cycle_phase', y='nighttime_glucose', ax=axes[0, 0])\n",
    "axes[0, 0].set_title('Nighttime Glucose by Cycle Phase')\n",
    "axes[0, 0].set_ylabel('Glucose (mg/dL)')\n",
    "axes[0, 0].axhline(y=180, color='r', linestyle='--', label='High threshold')\n",
    "axes[0, 0].axhline(y=70, color='r', linestyle='--', label='Low threshold')\n",
    "axes[0, 0].legend()\n",
    "\n",
    "# Basal insulin by cycle phase\n",
    "sns.boxplot(data=df, x='cycle_phase', y='basal_insulin', ax=axes[0, 1])\n",
    "axes[0, 1].set_title('Basal Insulin by Cycle Phase')\n",
    "axes[0, 1].set_ylabel('Basal Insulin (units)')\n",
    "\n",
    "# Sleep awakenings by cycle phase\n",
    "sns.boxplot(data=df, x='cycle_phase', y='sleep_awakenings', ax=axes[1, 0])\n",
    "axes[1, 0].set_title('Sleep Awakenings by Cycle Phase')\n",
    "axes[1, 0].set_ylabel('Awakenings (count)')\n",
    "\n",
    "# Symptom prevalence by cycle phase\n",
    "symptom_data = df.groupby('cycle_phase')[['has_night_sweats', 'has_dizziness', 'has_palpitations', 'has_fatigue']].mean()\n",
    "symptom_data.plot(kind='bar', ax=axes[1, 1])\n",
    "axes[1, 1].set_title('Symptom Prevalence by Cycle Phase')\n",
    "axes[1, 1].set_ylabel('Proportion')\n",
    "axes[1, 1].set_xticklabels(axes[1, 1].get_xticklabels(), rotation=0)\n",
    "axes[1, 1].legend(['Night Sweats', 'Dizziness', 'Palpitations', 'Fatigue'])\n",
    "\n",
    "plt.tight_layout()\n",
    "plt.show()"
   ]
  },
  {
   "cell_type": "markdown",
   "metadata": {},
   "source": [
    "## 7. Correlation Analysis"
   ]
  },
  {
   "cell_type": "code",
   "execution_count": null,
   "metadata": {},
   "outputs": [],
   "source": [
    "# Select numeric columns for correlation\n",
    "numeric_cols = ['age', 'years_since_diagnosis', 'basal_insulin', 'nighttime_glucose', \n",
    "                'sleep_awakenings', 'symptom_count']\n",
    "corr_matrix = df[numeric_cols].corr()\n",
    "\n",
    "plt.figure(figsize=(10, 8))\n",
    "sns.heatmap(corr_matrix, annot=True, cmap='coolwarm', center=0, fmt='.2f')\n",
    "plt.title('Correlation Matrix: Key Physiological Variables')\n",
    "plt.tight_layout()\n",
    "plt.show()"
   ]
  },
  {
   "cell_type": "markdown",
   "metadata": {},
   "source": [
    "## 8. Insulin Delivery Method Analysis"
   ]
  },
  {
   "cell_type": "code",
   "execution_count": null,
   "metadata": {},
   "outputs": [],
   "source": [
    "# Compare outcomes by insulin delivery method\n",
    "fig, axes = plt.subplots(1, 2, figsize=(14, 5))\n",
    "\n",
    "# Glucose by delivery method and cycle phase\n",
    "sns.boxplot(data=df, x='cycle_phase', y='nighttime_glucose', hue='insulin_delivery', ax=axes[0])\n",
    "axes[0].set_title('Nighttime Glucose by Delivery Method and Cycle Phase')\n",
    "axes[0].set_ylabel('Glucose (mg/dL)')\n",
    "\n",
    "# Basal insulin by delivery method and cycle phase\n",
    "sns.boxplot(data=df, x='cycle_phase', y='basal_insulin', hue='insulin_delivery', ax=axes[1])\n",
    "axes[1].set_title('Basal Insulin by Delivery Method and Cycle Phase')\n",
    "axes[1].set_ylabel('Basal Insulin (units)')\n",
    "\n",
    "plt.tight_layout()\n",
    "plt.show()"
   ]
  },
  {
   "cell_type": "markdown",
   "metadata": {},
   "source": [
    "## 9. Exploratory: Patient Narratives\n",
    "\n",
    "Sample subjective patient responses about glucose stability changes."
   ]
  },
  {
   "cell_type": "code",
   "execution_count": null,
   "metadata": {},
   "outputs": [],
   "source": [
    "# Display sample subjective text responses\n",
    "print(\"Sample patient narratives:\\n\")\n",
    "for i, text in enumerate(df['subjective_text'].dropna().sample(min(5, len(df))), 1):\n",
    "    print(f\"{i}. {text}\\n\")"
   ]
  },
  {
   "cell_type": "markdown",
   "metadata": {},
   "source": [
    "## 10. Export Summary Statistics\n",
    "\n",
    "Generate summary tables for reporting."
   ]
  },
  {
   "cell_type": "code",
   "execution_count": null,
   "metadata": {},
   "outputs": [],
   "source": [
    "# Summary statistics by cycle phase\n",
    "summary = df.groupby('cycle_phase').agg({\n",
    "    'nighttime_glucose': ['mean', 'std', 'count'],\n",
    "    'basal_insulin': ['mean', 'std'],\n",
    "    'sleep_awakenings': ['mean', 'std'],\n",
    "    'has_night_sweats': 'mean',\n",
    "    'has_dizziness': 'mean',\n",
    "    'has_palpitations': 'mean',\n",
    "    'has_fatigue': 'mean'\n",
    "}).round(2)\n",
    "\n",
    "print(\"\\nSummary Statistics by Cycle Phase:\")\n",
    "display(summary)\n",
    "\n",
    "# Optional: Save to CSV\n",
    "# summary.to_csv('output/summary_statistics.csv')\n",
    "# df.to_csv('output/processed_data.csv', index=False)"
   ]
  },
  {
   "cell_type": "markdown",
   "metadata": {},
   "source": [
    "## 11. Custom Analysis Section\n",
    "\n",
    "Use the cells below for your own exploratory analysis."
   ]
  },
  {
   "cell_type": "code",
   "execution_count": null,
   "metadata": {},
   "outputs": [],
   "source": [
    "# Your custom analysis here"
   ]
  }
 ],
 "metadata": {
  "kernelspec": {
   "display_name": "Python 3",
   "language": "python",
   "name": "python3"
  },
  "language_info": {
   "codemirror_mode": {
    "name": "ipython",
    "version": 3
   },
   "file_extension": ".py",
   "mimetype": "text/x-python",
   "name": "python",
   "nbconvert_exporter": "python",
   "pygments_lexer": "ipython3",
   "version": "3.11.0"
  }
 },
 "nbformat": 4,
 "nbformat_minor": 4
}